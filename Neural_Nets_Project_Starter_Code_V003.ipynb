{
 "cells": [
  {
   "cell_type": "markdown",
   "metadata": {},
   "source": [
    "# Gesture Recognition\n",
    "In this group project, you are going to build a 3D Conv model that will be able to predict the 5 gestures correctly. Please import the following libraries to get started."
   ]
  },
  {
   "cell_type": "code",
   "execution_count": 4,
   "metadata": {},
   "outputs": [],
   "source": [
    "import numpy as np\n",
    "import os\n",
    "from scipy.misc import imread, imresize\n",
    "import datetime\n",
    "import os"
   ]
  },
  {
   "cell_type": "markdown",
   "metadata": {},
   "source": [
    "We set the random seed so that the results don't vary drastically."
   ]
  },
  {
   "cell_type": "code",
   "execution_count": 5,
   "metadata": {},
   "outputs": [],
   "source": [
    "np.random.seed(30)\n",
    "import random as rn\n",
    "rn.seed(30)\n",
    "from keras import backend as K\n",
    "import tensorflow as tf\n",
    "tf.set_random_seed(30)"
   ]
  },
  {
   "cell_type": "markdown",
   "metadata": {},
   "source": [
    "In this block, you read the folder names for training and validation. You also set the `batch_size` here. Note that you set the batch size in such a way that you are able to use the GPU in full capacity. You keep increasing the batch size until the machine throws an error."
   ]
  },
  {
   "cell_type": "code",
   "execution_count": 6,
   "metadata": {},
   "outputs": [],
   "source": [
    "train_doc = np.random.permutation(open('Project_data/train.csv').readlines())\n",
    "val_doc = np.random.permutation(open('Project_data/val.csv').readlines())"
   ]
  },
  {
   "cell_type": "code",
   "execution_count": 7,
   "metadata": {},
   "outputs": [
    {
     "name": "stdout",
     "output_type": "stream",
     "text": [
      "663\n",
      "100\n"
     ]
    }
   ],
   "source": [
    "print(len(train_doc))\n",
    "print(len(val_doc))"
   ]
  },
  {
   "cell_type": "code",
   "execution_count": 8,
   "metadata": {},
   "outputs": [],
   "source": [
    "def standardize(img):\n",
    "    mean = np.mean(img)\n",
    "    std = np.std(img)\n",
    "    img = (img - mean) / std\n",
    "    return img"
   ]
  },
  {
   "cell_type": "markdown",
   "metadata": {},
   "source": [
    "## Generator\n",
    "This is one of the most important part of the code. The overall structure of the generator has been given. In the generator, you are going to preprocess the images as you have images of 2 different dimensions as well as create a batch of video frames. You have to experiment with `img_idx`, `y`,`z` and normalization such that you get high accuracy."
   ]
  },
  {
   "cell_type": "code",
   "execution_count": 9,
   "metadata": {},
   "outputs": [],
   "source": [
    "def generator(source_path, folder_list, batch_size):\n",
    "    print( 'Source path = ', source_path, '; batch size =', batch_size)\n",
    "    img_idx = [0,1,2,3,4,5,6,7,8,10,12,14,15,16,17,18,19,20,22,24,25,26,27,28,29] #create a list of image numbers you want to use for a particular video\n",
    "    while True:\n",
    "        t = np.random.permutation(folder_list)\n",
    "        num_batches = int(len(t)/batch_size) # calculate the number of batches\n",
    "        for batch in range(num_batches): # we iterate over the number of batches\n",
    "            batch_data = np.zeros((batch_size,25,80,80,3)) # x is the number of images you use for each video, (y,z) is the final size of the input images and 3 is the number of channels RGB\n",
    "            batch_labels = np.zeros((batch_size,5)) # batch_labels is the one hot representation of the output\n",
    "            for folder in range(batch_size): # iterate over the batch_size\n",
    "                imgs = os.listdir(source_path+'/'+ t[folder + (batch*batch_size)].split(';')[0]) # read all the images in the folder\n",
    "                for idx,item in enumerate(img_idx): #  Iterate iver the frames/images of a folder to read them in\n",
    "                    image = imread(source_path+'/'+ t[folder + (batch*batch_size)].strip().split(';')[0]+'/'+imgs[item]).astype(np.float32)\n",
    "                    \n",
    "                    #crop the images and resize them. Note that the images are of 2 different shape \n",
    "                    #and the conv3D will throw error if the inputs in a batch have different shapes\n",
    "                    if image.shape[1] == 160:\n",
    "                        image = imresize(image[:,20:140,:],(80,80)).astype(np.float32)\n",
    "                    else:\n",
    "                        image = imresize(image[:,20:340,:],(80,80)).astype(np.float32)\n",
    "                        \n",
    "                    batch_data[folder,idx,:,:,0] = standardize(image[:,:,0]) #normalise and feed in the image\n",
    "                    batch_data[folder,idx,:,:,1] = standardize(image[:,:,1]) #normalise and feed in the image\n",
    "                    batch_data[folder,idx,:,:,2] = standardize(image[:,:,2]) #normalise and feed in the image\n",
    "                    \n",
    "                batch_labels[folder, int(t[folder + (batch*batch_size)].strip().split(';')[2])] = 1\n",
    "            yield batch_data, batch_labels #you yield the batch_data and the batch_labels, remember what does yield do\n",
    "\n",
    "        \n",
    "        # write the code for the remaining data points which are left after full batches\n",
    "        if (len(t)%batch_size) != 0:\n",
    "            batch_data = np.zeros((len(t)%batch_size,25,80,80,3))\n",
    "            batch_labels = np.zeros((len(t)%batch_size,5))\n",
    "            for folder in range(len(t)%batch_size):\n",
    "                imgs = os.listdir(source_path+'/'+ t[folder + (num_batches*batch_size)].split(';')[0])\n",
    "                for idx,item in enumerate(img_idx):\n",
    "                    image = imread(source_path+'/'+ t[folder + (num_batches*batch_size)].strip().split(';')[0]+'/'+imgs[item]).astype(np.float32)\n",
    "                    if image.shape[1] == 160:\n",
    "                        image = imresize(image[:,20:140,:],(80,80)).astype(np.float32)\n",
    "                    else:\n",
    "                        image = imresize(image[:,20:340,:],(80,80)).astype(np.float32)\n",
    "\n",
    "                    batch_data[folder,idx,:,:,0] = standardize(image[:,:,0]) #normalise and feed in the image\n",
    "                    batch_data[folder,idx,:,:,1] = standardize(image[:,:,1]) #normalise and feed in the image\n",
    "                    batch_data[folder,idx,:,:,2] = standardize(image[:,:,2]) #normalise and feed in the image\n",
    "\n",
    "                batch_labels[folder, int(t[folder + (num_batches*batch_size)].strip().split(';')[2])] = 1\n",
    "\n",
    "            yield batch_data, batch_labels\n"
   ]
  },
  {
   "cell_type": "markdown",
   "metadata": {},
   "source": [
    "Note here that a video is represented above in the generator as (number of images, height, width, number of channels). Take this into consideration while creating the model architecture."
   ]
  },
  {
   "cell_type": "code",
   "execution_count": 10,
   "metadata": {},
   "outputs": [
    {
     "name": "stdout",
     "output_type": "stream",
     "text": [
      "# training sequences = 663\n",
      "# validation sequences = 100\n",
      "# epochs = 40\n"
     ]
    }
   ],
   "source": [
    "curr_dt_time = datetime.datetime.now()\n",
    "train_path = 'Project_data/train'\n",
    "val_path = 'Project_data/val'\n",
    "num_train_sequences = len(train_doc)\n",
    "print('# training sequences =', num_train_sequences)\n",
    "num_val_sequences = len(val_doc)\n",
    "print('# validation sequences =', num_val_sequences)\n",
    "num_epochs = 40 # choose the number of epochs\n",
    "print ('# epochs =', num_epochs)\n",
    "batch_size = 32 #experiment with the batch size"
   ]
  },
  {
   "cell_type": "markdown",
   "metadata": {},
   "source": [
    "## Model\n",
    "Here you make the model using different functionalities that Keras provides. Remember to use `Conv3D` and `MaxPooling3D` and not `Conv2D` and `Maxpooling2D` for a 3D convolution model. You would want to use `TimeDistributed` while building a Conv2D + RNN model. Also remember that the last layer is the softmax. Design the network in such a way that the model is able to give good accuracy on the least number of parameters so that it can fit in the memory of the webcam."
   ]
  },
  {
   "cell_type": "code",
   "execution_count": 21,
   "metadata": {},
   "outputs": [],
   "source": [
    "from keras.models import Sequential, Model\n",
    "from keras.layers import Dense, GRU, Flatten, TimeDistributed, Flatten, BatchNormalization, Activation,Dropout\n",
    "from keras.layers.convolutional import Conv3D, MaxPooling3D\n",
    "from keras.callbacks import ModelCheckpoint, ReduceLROnPlateau\n",
    "from keras import optimizers\n",
    "\n",
    "#write your model here\n",
    "model = Sequential()\n",
    "model.add(Conv3D(64, (3,3,3), strides=(1,1,1), padding='same', input_shape=(25,80,80,3)))\n",
    "model.add(BatchNormalization())\n",
    "model.add(Activation('relu'))\n",
    "model.add(MaxPooling3D(pool_size=(2,2,1), strides=(2,2,1)))\n",
    "\n",
    "model.add(Conv3D(128, (3,3,3), strides=(1,1,1), padding='same'))\n",
    "model.add(BatchNormalization())\n",
    "model.add(Activation('relu'))\n",
    "model.add(MaxPooling3D(pool_size=(2,2,2), strides=(2,2,2)))\n",
    "\n",
    "\n",
    "model.add(Conv3D(256, (3,3,3), strides=(1,1,1), padding='same'))\n",
    "model.add(BatchNormalization())\n",
    "model.add(Activation('relu'))\n",
    "model.add(MaxPooling3D(pool_size=(2,2,2), strides=(2,2,2)))\n",
    "\n",
    "\n",
    "model.add(Conv3D(256, (3,3,3), strides=(1,1,1), padding='same'))\n",
    "model.add(BatchNormalization())\n",
    "model.add(Activation('relu'))\n",
    "model.add(MaxPooling3D(pool_size=(2,2,2), strides=(2,2,2)))\n",
    "\n",
    "model.add(Flatten())\n",
    "model.add(Dropout(0.5))\n",
    "model.add(Dense(512, activation='relu'))\n",
    "model.add(Dropout(0.5))\n",
    "model.add(Dense(5, activation='softmax'))"
   ]
  },
  {
   "cell_type": "markdown",
   "metadata": {},
   "source": [
    "Now that you have written the model, the next step is to `compile` the model. When you print the `summary` of the model, you'll see the total number of parameters you have to train."
   ]
  },
  {
   "cell_type": "code",
   "execution_count": 22,
   "metadata": {
    "scrolled": true
   },
   "outputs": [
    {
     "name": "stdout",
     "output_type": "stream",
     "text": [
      "_________________________________________________________________\n",
      "Layer (type)                 Output Shape              Param #   \n",
      "=================================================================\n",
      "conv3d_5 (Conv3D)            (None, 25, 80, 80, 64)    5248      \n",
      "_________________________________________________________________\n",
      "batch_normalization_5 (Batch (None, 25, 80, 80, 64)    256       \n",
      "_________________________________________________________________\n",
      "activation_5 (Activation)    (None, 25, 80, 80, 64)    0         \n",
      "_________________________________________________________________\n",
      "max_pooling3d_5 (MaxPooling3 (None, 12, 40, 80, 64)    0         \n",
      "_________________________________________________________________\n",
      "conv3d_6 (Conv3D)            (None, 12, 40, 80, 128)   221312    \n",
      "_________________________________________________________________\n",
      "batch_normalization_6 (Batch (None, 12, 40, 80, 128)   512       \n",
      "_________________________________________________________________\n",
      "activation_6 (Activation)    (None, 12, 40, 80, 128)   0         \n",
      "_________________________________________________________________\n",
      "max_pooling3d_6 (MaxPooling3 (None, 6, 20, 40, 128)    0         \n",
      "_________________________________________________________________\n",
      "conv3d_7 (Conv3D)            (None, 6, 20, 40, 256)    884992    \n",
      "_________________________________________________________________\n",
      "batch_normalization_7 (Batch (None, 6, 20, 40, 256)    1024      \n",
      "_________________________________________________________________\n",
      "activation_7 (Activation)    (None, 6, 20, 40, 256)    0         \n",
      "_________________________________________________________________\n",
      "max_pooling3d_7 (MaxPooling3 (None, 3, 10, 20, 256)    0         \n",
      "_________________________________________________________________\n",
      "conv3d_8 (Conv3D)            (None, 3, 10, 20, 256)    1769728   \n",
      "_________________________________________________________________\n",
      "batch_normalization_8 (Batch (None, 3, 10, 20, 256)    1024      \n",
      "_________________________________________________________________\n",
      "activation_8 (Activation)    (None, 3, 10, 20, 256)    0         \n",
      "_________________________________________________________________\n",
      "max_pooling3d_8 (MaxPooling3 (None, 1, 5, 10, 256)     0         \n",
      "_________________________________________________________________\n",
      "flatten_2 (Flatten)          (None, 12800)             0         \n",
      "_________________________________________________________________\n",
      "dropout_3 (Dropout)          (None, 12800)             0         \n",
      "_________________________________________________________________\n",
      "dense_3 (Dense)              (None, 512)               6554112   \n",
      "_________________________________________________________________\n",
      "dropout_4 (Dropout)          (None, 512)               0         \n",
      "_________________________________________________________________\n",
      "dense_4 (Dense)              (None, 5)                 2565      \n",
      "=================================================================\n",
      "Total params: 9,440,773\n",
      "Trainable params: 9,439,365\n",
      "Non-trainable params: 1,408\n",
      "_________________________________________________________________\n",
      "None\n"
     ]
    }
   ],
   "source": [
    "optimiser = optimizers.SGD(lr=0.001, decay=1e-6, momentum=0.7, nesterov=True) #write your optimizer\n",
    "model.compile(optimizer=optimiser, loss='categorical_crossentropy', metrics=['categorical_accuracy'])\n",
    "print (model.summary())"
   ]
  },
  {
   "cell_type": "markdown",
   "metadata": {},
   "source": [
    "Let us create the `train_generator` and the `val_generator` which will be used in `.fit_generator`."
   ]
  },
  {
   "cell_type": "code",
   "execution_count": 23,
   "metadata": {},
   "outputs": [],
   "source": [
    "train_generator = generator(train_path, train_doc, batch_size)\n",
    "val_generator = generator(val_path, val_doc, batch_size)"
   ]
  },
  {
   "cell_type": "code",
   "execution_count": 24,
   "metadata": {},
   "outputs": [],
   "source": [
    "model_name = 'model_init' + '_' + str(curr_dt_time).replace(' ','').replace(':','_') + '/'\n",
    "    \n",
    "if not os.path.exists(model_name):\n",
    "    os.mkdir(model_name)\n",
    "        \n",
    "filepath = model_name + 'model-{epoch:05d}-{loss:.5f}-{categorical_accuracy:.5f}-{val_loss:.5f}-{val_categorical_accuracy:.5f}.h5'\n",
    "\n",
    "checkpoint = ModelCheckpoint(filepath, monitor='val_loss', verbose=1, save_best_only=False, save_weights_only=False, mode='auto', period=1)\n",
    "\n",
    "LR = ReduceLROnPlateau(monitor='val_loss', factor=0.5, patience=2, verbose=1, mode='min', min_delta=0.0001, cooldown=0, min_lr=0.00001) # write the REducelronplateau code here\n",
    "callbacks_list = [checkpoint, LR]"
   ]
  },
  {
   "cell_type": "markdown",
   "metadata": {},
   "source": [
    "The `steps_per_epoch` and `validation_steps` are used by `fit_generator` to decide the number of next() calls it need to make."
   ]
  },
  {
   "cell_type": "code",
   "execution_count": 25,
   "metadata": {},
   "outputs": [],
   "source": [
    "if (num_train_sequences%batch_size) == 0:\n",
    "    steps_per_epoch = int(num_train_sequences/batch_size)\n",
    "else:\n",
    "    steps_per_epoch = (num_train_sequences//batch_size) + 1\n",
    "\n",
    "if (num_val_sequences%batch_size) == 0:\n",
    "    validation_steps = int(num_val_sequences/batch_size)\n",
    "else:\n",
    "    validation_steps = (num_val_sequences//batch_size) + 1"
   ]
  },
  {
   "cell_type": "markdown",
   "metadata": {},
   "source": [
    "Let us now fit the model. This will start training the model and with the help of the checkpoints, you'll be able to save the model at the end of each epoch."
   ]
  },
  {
   "cell_type": "code",
   "execution_count": 26,
   "metadata": {
    "scrolled": true
   },
   "outputs": [
    {
     "name": "stdout",
     "output_type": "stream",
     "text": [
      "Source path = Source path =   Project_data/val ; batch size =Epoch 1/40\n",
      "Project_data/train ; batch size = 32\n",
      " 32\n"
     ]
    },
    {
     "name": "stderr",
     "output_type": "stream",
     "text": [
      "/mnt/disks/user/anaconda3/lib/python3.6/site-packages/ipykernel_launcher.py:13: DeprecationWarning: `imread` is deprecated!\n",
      "`imread` is deprecated in SciPy 1.0.0, and will be removed in 1.2.0.\n",
      "Use ``imageio.imread`` instead.\n",
      "  del sys.path[0]\n",
      "/mnt/disks/user/anaconda3/lib/python3.6/site-packages/ipykernel_launcher.py:18: DeprecationWarning: `imresize` is deprecated!\n",
      "`imresize` is deprecated in SciPy 1.0.0, and will be removed in 1.2.0.\n",
      "Use ``skimage.transform.resize`` instead.\n",
      "/mnt/disks/user/anaconda3/lib/python3.6/site-packages/ipykernel_launcher.py:20: DeprecationWarning: `imresize` is deprecated!\n",
      "`imresize` is deprecated in SciPy 1.0.0, and will be removed in 1.2.0.\n",
      "Use ``skimage.transform.resize`` instead.\n"
     ]
    },
    {
     "name": "stdout",
     "output_type": "stream",
     "text": [
      " 2/21 [=>............................] - ETA: 3:06 - loss: 4.8515 - categorical_accuracy: 0.1875"
     ]
    },
    {
     "name": "stderr",
     "output_type": "stream",
     "text": [
      "/mnt/disks/user/anaconda3/lib/python3.6/site-packages/ipykernel_launcher.py:37: DeprecationWarning: `imread` is deprecated!\n",
      "`imread` is deprecated in SciPy 1.0.0, and will be removed in 1.2.0.\n",
      "Use ``imageio.imread`` instead.\n",
      "/mnt/disks/user/anaconda3/lib/python3.6/site-packages/ipykernel_launcher.py:39: DeprecationWarning: `imresize` is deprecated!\n",
      "`imresize` is deprecated in SciPy 1.0.0, and will be removed in 1.2.0.\n",
      "Use ``skimage.transform.resize`` instead.\n",
      "/mnt/disks/user/anaconda3/lib/python3.6/site-packages/ipykernel_launcher.py:41: DeprecationWarning: `imresize` is deprecated!\n",
      "`imresize` is deprecated in SciPy 1.0.0, and will be removed in 1.2.0.\n",
      "Use ``skimage.transform.resize`` instead.\n"
     ]
    },
    {
     "name": "stdout",
     "output_type": "stream",
     "text": [
      "21/21 [==============================] - 145s 7s/step - loss: 3.0982 - categorical_accuracy: 0.2941 - val_loss: 1.3576 - val_categorical_accuracy: 0.4400\n",
      "\n",
      "Epoch 00001: saving model to model_init_2020-02-0414_43_47.418584/model-00001-3.10798-0.29563-1.35764-0.44000.h5\n",
      "Epoch 2/40\n",
      "21/21 [==============================] - 64s 3s/step - loss: 1.7205 - categorical_accuracy: 0.3815 - val_loss: 1.2209 - val_categorical_accuracy: 0.4600\n",
      "\n",
      "Epoch 00002: saving model to model_init_2020-02-0414_43_47.418584/model-00002-1.72223-0.38311-1.22094-0.46000.h5\n",
      "Epoch 3/40\n",
      "21/21 [==============================] - 67s 3s/step - loss: 1.3122 - categorical_accuracy: 0.4712 - val_loss: 1.0390 - val_categorical_accuracy: 0.6200\n",
      "\n",
      "Epoch 00003: saving model to model_init_2020-02-0414_43_47.418584/model-00003-1.31498-0.47059-1.03896-0.62000.h5\n",
      "Epoch 4/40\n",
      "21/21 [==============================] - 69s 3s/step - loss: 1.2065 - categorical_accuracy: 0.5282 - val_loss: 0.9657 - val_categorical_accuracy: 0.6200\n",
      "\n",
      "Epoch 00004: saving model to model_init_2020-02-0414_43_47.418584/model-00004-1.20509-0.52941-0.96567-0.62000.h5\n",
      "Epoch 5/40\n",
      "21/21 [==============================] - 68s 3s/step - loss: 1.0914 - categorical_accuracy: 0.5757 - val_loss: 1.0083 - val_categorical_accuracy: 0.6100\n",
      "\n",
      "Epoch 00005: saving model to model_init_2020-02-0414_43_47.418584/model-00005-1.09236-0.57466-1.00832-0.61000.h5\n",
      "Epoch 6/40\n",
      "21/21 [==============================] - 67s 3s/step - loss: 1.0211 - categorical_accuracy: 0.6049 - val_loss: 0.9608 - val_categorical_accuracy: 0.6200\n",
      "\n",
      "Epoch 00006: saving model to model_init_2020-02-0414_43_47.418584/model-00006-1.02181-0.60483-0.96082-0.62000.h5\n",
      "Epoch 7/40\n",
      "21/21 [==============================] - 68s 3s/step - loss: 0.9551 - categorical_accuracy: 0.6309 - val_loss: 0.9091 - val_categorical_accuracy: 0.6600\n",
      "\n",
      "Epoch 00007: saving model to model_init_2020-02-0414_43_47.418584/model-00007-0.95605-0.62896-0.90914-0.66000.h5\n",
      "Epoch 8/40\n",
      "21/21 [==============================] - 68s 3s/step - loss: 0.9345 - categorical_accuracy: 0.6477 - val_loss: 0.8348 - val_categorical_accuracy: 0.6700\n",
      "\n",
      "Epoch 00008: saving model to model_init_2020-02-0414_43_47.418584/model-00008-0.93565-0.64706-0.83482-0.67000.h5\n",
      "Epoch 9/40\n",
      "21/21 [==============================] - 68s 3s/step - loss: 0.8133 - categorical_accuracy: 0.6730 - val_loss: 0.8708 - val_categorical_accuracy: 0.6500\n",
      "\n",
      "Epoch 00009: saving model to model_init_2020-02-0414_43_47.418584/model-00009-0.81297-0.67270-0.87080-0.65000.h5\n",
      "Epoch 10/40\n",
      "21/21 [==============================] - 68s 3s/step - loss: 0.8138 - categorical_accuracy: 0.6624 - val_loss: 0.8704 - val_categorical_accuracy: 0.6400\n",
      "\n",
      "Epoch 00010: saving model to model_init_2020-02-0414_43_47.418584/model-00010-0.80961-0.66365-0.87039-0.64000.h5\n",
      "\n",
      "Epoch 00010: ReduceLROnPlateau reducing learning rate to 0.0005000000237487257.\n",
      "Epoch 11/40\n",
      "21/21 [==============================] - 67s 3s/step - loss: 0.7047 - categorical_accuracy: 0.7100 - val_loss: 0.8759 - val_categorical_accuracy: 0.6700\n",
      "\n",
      "Epoch 00011: saving model to model_init_2020-02-0414_43_47.418584/model-00011-0.70202-0.71192-0.87589-0.67000.h5\n",
      "Epoch 12/40\n",
      "21/21 [==============================] - 68s 3s/step - loss: 0.6801 - categorical_accuracy: 0.7257 - val_loss: 0.8098 - val_categorical_accuracy: 0.6900\n",
      "\n",
      "Epoch 00012: saving model to model_init_2020-02-0414_43_47.418584/model-00012-0.68187-0.72549-0.80977-0.69000.h5\n",
      "Epoch 13/40\n",
      "21/21 [==============================] - 68s 3s/step - loss: 0.6525 - categorical_accuracy: 0.7242 - val_loss: 0.7615 - val_categorical_accuracy: 0.6900\n",
      "\n",
      "Epoch 00013: saving model to model_init_2020-02-0414_43_47.418584/model-00013-0.65185-0.72398-0.76151-0.69000.h5\n",
      "Epoch 14/40\n",
      "21/21 [==============================] - 68s 3s/step - loss: 0.6524 - categorical_accuracy: 0.7240 - val_loss: 0.8454 - val_categorical_accuracy: 0.6900\n",
      "\n",
      "Epoch 00014: saving model to model_init_2020-02-0414_43_47.418584/model-00014-0.65121-0.72549-0.84542-0.69000.h5\n",
      "Epoch 15/40\n",
      "21/21 [==============================] - 68s 3s/step - loss: 0.5853 - categorical_accuracy: 0.7718 - val_loss: 0.7804 - val_categorical_accuracy: 0.6500\n",
      "\n",
      "Epoch 00015: saving model to model_init_2020-02-0414_43_47.418584/model-00015-0.58376-0.77225-0.78041-0.65000.h5\n",
      "\n",
      "Epoch 00015: ReduceLROnPlateau reducing learning rate to 0.0002500000118743628.\n",
      "Epoch 16/40\n",
      "21/21 [==============================] - 68s 3s/step - loss: 0.5570 - categorical_accuracy: 0.7705 - val_loss: 0.7352 - val_categorical_accuracy: 0.7000\n",
      "\n",
      "Epoch 00016: saving model to model_init_2020-02-0414_43_47.418584/model-00016-0.55901-0.76923-0.73523-0.70000.h5\n",
      "Epoch 17/40\n",
      "21/21 [==============================] - 68s 3s/step - loss: 0.5419 - categorical_accuracy: 0.7956 - val_loss: 0.7718 - val_categorical_accuracy: 0.6800\n",
      "\n",
      "Epoch 00017: saving model to model_init_2020-02-0414_43_47.418584/model-00017-0.54131-0.79638-0.77181-0.68000.h5\n",
      "Epoch 18/40\n",
      "21/21 [==============================] - 68s 3s/step - loss: 0.5221 - categorical_accuracy: 0.8143 - val_loss: 0.7492 - val_categorical_accuracy: 0.6600\n",
      "\n",
      "Epoch 00018: saving model to model_init_2020-02-0414_43_47.418584/model-00018-0.52289-0.81297-0.74923-0.66000.h5\n",
      "\n",
      "Epoch 00018: ReduceLROnPlateau reducing learning rate to 0.0001250000059371814.\n",
      "Epoch 19/40\n",
      "21/21 [==============================] - 68s 3s/step - loss: 0.5359 - categorical_accuracy: 0.8007 - val_loss: 0.7113 - val_categorical_accuracy: 0.7100\n",
      "\n",
      "Epoch 00019: saving model to model_init_2020-02-0414_43_47.418584/model-00019-0.53709-0.80090-0.71130-0.71000.h5\n",
      "Epoch 20/40\n",
      "21/21 [==============================] - 69s 3s/step - loss: 0.5128 - categorical_accuracy: 0.8074 - val_loss: 0.7066 - val_categorical_accuracy: 0.7400\n",
      "\n",
      "Epoch 00020: saving model to model_init_2020-02-0414_43_47.418584/model-00020-0.51555-0.80543-0.70663-0.74000.h5\n",
      "Epoch 21/40\n",
      "21/21 [==============================] - 68s 3s/step - loss: 0.5648 - categorical_accuracy: 0.7649 - val_loss: 0.6814 - val_categorical_accuracy: 0.7300\n",
      "\n",
      "Epoch 00021: saving model to model_init_2020-02-0414_43_47.418584/model-00021-0.56416-0.76471-0.68138-0.73000.h5\n",
      "Epoch 22/40\n",
      "21/21 [==============================] - 68s 3s/step - loss: 0.4914 - categorical_accuracy: 0.8102 - val_loss: 0.6677 - val_categorical_accuracy: 0.7200\n",
      "\n",
      "Epoch 00022: saving model to model_init_2020-02-0414_43_47.418584/model-00022-0.49157-0.80995-0.66768-0.72000.h5\n",
      "Epoch 23/40\n",
      "21/21 [==============================] - 68s 3s/step - loss: 0.4745 - categorical_accuracy: 0.7917 - val_loss: 0.6670 - val_categorical_accuracy: 0.7100\n",
      "\n",
      "Epoch 00023: saving model to model_init_2020-02-0414_43_47.418584/model-00023-0.47389-0.79186-0.66704-0.71000.h5\n",
      "Epoch 24/40\n",
      "21/21 [==============================] - 68s 3s/step - loss: 0.4765 - categorical_accuracy: 0.8135 - val_loss: 0.6674 - val_categorical_accuracy: 0.7300\n",
      "\n",
      "Epoch 00024: saving model to model_init_2020-02-0414_43_47.418584/model-00024-0.47657-0.81448-0.66744-0.73000.h5\n",
      "Epoch 25/40\n",
      "21/21 [==============================] - 69s 3s/step - loss: 0.4600 - categorical_accuracy: 0.8312 - val_loss: 0.6788 - val_categorical_accuracy: 0.7200\n",
      "\n",
      "Epoch 00025: saving model to model_init_2020-02-0414_43_47.418584/model-00025-0.46217-0.82956-0.67882-0.72000.h5\n",
      "\n",
      "Epoch 00025: ReduceLROnPlateau reducing learning rate to 6.25000029685907e-05.\n",
      "Epoch 26/40\n",
      "21/21 [==============================] - 68s 3s/step - loss: 0.4671 - categorical_accuracy: 0.8182 - val_loss: 0.6739 - val_categorical_accuracy: 0.7100\n",
      "\n",
      "Epoch 00026: saving model to model_init_2020-02-0414_43_47.418584/model-00026-0.46854-0.81750-0.67387-0.71000.h5\n",
      "Epoch 27/40\n",
      "21/21 [==============================] - 69s 3s/step - loss: 0.4409 - categorical_accuracy: 0.8474 - val_loss: 0.6685 - val_categorical_accuracy: 0.7100\n",
      "\n",
      "Epoch 00027: saving model to model_init_2020-02-0414_43_47.418584/model-00027-0.44049-0.84766-0.66851-0.71000.h5\n",
      "\n",
      "Epoch 00027: ReduceLROnPlateau reducing learning rate to 3.125000148429535e-05.\n",
      "Epoch 28/40\n",
      "21/21 [==============================] - 69s 3s/step - loss: 0.4690 - categorical_accuracy: 0.8141 - val_loss: 0.6636 - val_categorical_accuracy: 0.7100\n",
      "\n",
      "Epoch 00028: saving model to model_init_2020-02-0414_43_47.418584/model-00028-0.46974-0.81448-0.66358-0.71000.h5\n",
      "Epoch 29/40\n"
     ]
    },
    {
     "name": "stdout",
     "output_type": "stream",
     "text": [
      "21/21 [==============================] - 68s 3s/step - loss: 0.4092 - categorical_accuracy: 0.8366 - val_loss: 0.6620 - val_categorical_accuracy: 0.7100\n",
      "\n",
      "Epoch 00029: saving model to model_init_2020-02-0414_43_47.418584/model-00029-0.41139-0.83560-0.66198-0.71000.h5\n",
      "Epoch 30/40\n",
      "21/21 [==============================] - 69s 3s/step - loss: 0.4741 - categorical_accuracy: 0.8081 - val_loss: 0.6593 - val_categorical_accuracy: 0.7200\n",
      "\n",
      "Epoch 00030: saving model to model_init_2020-02-0414_43_47.418584/model-00030-0.47422-0.80845-0.65926-0.72000.h5\n",
      "Epoch 31/40\n",
      "21/21 [==============================] - 68s 3s/step - loss: 0.4605 - categorical_accuracy: 0.8197 - val_loss: 0.6581 - val_categorical_accuracy: 0.7100\n",
      "\n",
      "Epoch 00031: saving model to model_init_2020-02-0414_43_47.418584/model-00031-0.46210-0.81900-0.65810-0.71000.h5\n",
      "Epoch 32/40\n",
      "21/21 [==============================] - 68s 3s/step - loss: 0.4658 - categorical_accuracy: 0.8310 - val_loss: 0.6567 - val_categorical_accuracy: 0.7100\n",
      "\n",
      "Epoch 00032: saving model to model_init_2020-02-0414_43_47.418584/model-00032-0.46464-0.83107-0.65668-0.71000.h5\n",
      "Epoch 33/40\n",
      "21/21 [==============================] - 68s 3s/step - loss: 0.4229 - categorical_accuracy: 0.8450 - val_loss: 0.6544 - val_categorical_accuracy: 0.7100\n",
      "\n",
      "Epoch 00033: saving model to model_init_2020-02-0414_43_47.418584/model-00033-0.42279-0.84465-0.65436-0.71000.h5\n",
      "Epoch 34/40\n",
      "21/21 [==============================] - 68s 3s/step - loss: 0.4592 - categorical_accuracy: 0.8265 - val_loss: 0.6539 - val_categorical_accuracy: 0.7200\n",
      "\n",
      "Epoch 00034: saving model to model_init_2020-02-0414_43_47.418584/model-00034-0.46027-0.82655-0.65394-0.72000.h5\n",
      "Epoch 35/40\n",
      "21/21 [==============================] - 68s 3s/step - loss: 0.4232 - categorical_accuracy: 0.8385 - val_loss: 0.6534 - val_categorical_accuracy: 0.7200\n",
      "\n",
      "Epoch 00035: saving model to model_init_2020-02-0414_43_47.418584/model-00035-0.42023-0.83861-0.65341-0.72000.h5\n",
      "Epoch 36/40\n",
      "21/21 [==============================] - 68s 3s/step - loss: 0.4175 - categorical_accuracy: 0.8424 - val_loss: 0.6506 - val_categorical_accuracy: 0.7100\n",
      "\n",
      "Epoch 00036: saving model to model_init_2020-02-0414_43_47.418584/model-00036-0.41654-0.84314-0.65056-0.71000.h5\n",
      "Epoch 37/40\n",
      "21/21 [==============================] - 68s 3s/step - loss: 0.4474 - categorical_accuracy: 0.8425 - val_loss: 0.6497 - val_categorical_accuracy: 0.7200\n",
      "\n",
      "Epoch 00037: saving model to model_init_2020-02-0414_43_47.418584/model-00037-0.44755-0.84163-0.64972-0.72000.h5\n",
      "Epoch 38/40\n",
      "21/21 [==============================] - 69s 3s/step - loss: 0.4092 - categorical_accuracy: 0.8375 - val_loss: 0.6500 - val_categorical_accuracy: 0.7200\n",
      "\n",
      "Epoch 00038: saving model to model_init_2020-02-0414_43_47.418584/model-00038-0.40897-0.83710-0.65000-0.72000.h5\n",
      "Epoch 39/40\n",
      "21/21 [==============================] - 69s 3s/step - loss: 0.4517 - categorical_accuracy: 0.8262 - val_loss: 0.6497 - val_categorical_accuracy: 0.7200\n",
      "\n",
      "Epoch 00039: saving model to model_init_2020-02-0414_43_47.418584/model-00039-0.45250-0.82504-0.64968-0.72000.h5\n",
      "\n",
      "Epoch 00039: ReduceLROnPlateau reducing learning rate to 1.5625000742147677e-05.\n",
      "Epoch 40/40\n",
      "21/21 [==============================] - 68s 3s/step - loss: 0.4342 - categorical_accuracy: 0.8279 - val_loss: 0.6472 - val_categorical_accuracy: 0.7200\n",
      "\n",
      "Epoch 00040: saving model to model_init_2020-02-0414_43_47.418584/model-00040-0.43085-0.82956-0.64723-0.72000.h5\n"
     ]
    },
    {
     "data": {
      "text/plain": [
       "<keras.callbacks.History at 0x7fab740aeb38>"
      ]
     },
     "execution_count": 26,
     "metadata": {},
     "output_type": "execute_result"
    }
   ],
   "source": [
    "model.fit_generator(train_generator, steps_per_epoch=steps_per_epoch, epochs=num_epochs, verbose=1, \n",
    "                    callbacks=callbacks_list, validation_data=val_generator, \n",
    "                    validation_steps=validation_steps, class_weight=None, workers=1, initial_epoch=0)"
   ]
  },
  {
   "cell_type": "markdown",
   "metadata": {},
   "source": [
    "### Observations:"
   ]
  },
  {
   "cell_type": "markdown",
   "metadata": {},
   "source": [
    "- As we can see from above model that it is overfitting. We have got categorical_accuracy: 0.8279 and val_categorical_accuracy: 0.7200. There is 10% difference between train and validation accuracies.\n",
    "- Currently we are using 25 frames with size 80*80 and 3 channels as an input.\n",
    "- 4 convolutional layer followed by batch normalization, maxpooling.\n",
    "- Later it is flattened follwoed by dropout and fed into Dense layer with 5 classification output.\n",
    "- This model is giving good accuracy but seems overfit. Though it has trainanble parameters as 9.5 million which is good for webcam hosting as well."
   ]
  },
  {
   "cell_type": "markdown",
   "metadata": {},
   "source": [
    "### Lets add dropout after third CONVO 3D layer to reduce overfit and see if our accuracy is still good."
   ]
  },
  {
   "cell_type": "markdown",
   "metadata": {},
   "source": [
    "### Model 2: CONVO 3D"
   ]
  },
  {
   "cell_type": "code",
   "execution_count": 11,
   "metadata": {},
   "outputs": [],
   "source": [
    "from keras.models import Sequential, Model\n",
    "from keras.layers import Dense, GRU, Flatten, TimeDistributed, Flatten, BatchNormalization, Activation,Dropout\n",
    "from keras.layers.convolutional import Conv3D, MaxPooling3D\n",
    "from keras.callbacks import ModelCheckpoint, ReduceLROnPlateau\n",
    "from keras import optimizers\n",
    "\n",
    "#write your model here\n",
    "model = Sequential()\n",
    "model.add(Conv3D(64, (3,3,3), strides=(1,1,1), padding='same', input_shape=(25,80,80,3)))\n",
    "model.add(BatchNormalization())\n",
    "model.add(Activation('relu'))\n",
    "model.add(MaxPooling3D(pool_size=(2,2,1), strides=(2,2,1)))\n",
    "#model.add(Dropout(0.25))\n",
    "\n",
    "model.add(Conv3D(128, (3,3,3), strides=(1,1,1), padding='same'))\n",
    "model.add(BatchNormalization())\n",
    "model.add(Activation('relu'))\n",
    "model.add(MaxPooling3D(pool_size=(2,2,2), strides=(2,2,2)))\n",
    "#model.add(Dropout(0.25))\n",
    "\n",
    "model.add(Conv3D(256, (3,3,3), strides=(1,1,1), padding='same'))\n",
    "model.add(BatchNormalization())\n",
    "model.add(Activation('relu'))\n",
    "model.add(MaxPooling3D(pool_size=(2,2,2), strides=(2,2,2)))\n",
    "model.add(Dropout(0.25))\n",
    "\n",
    "model.add(Conv3D(256, (3,3,3), strides=(1,1,1), padding='same'))\n",
    "model.add(BatchNormalization())\n",
    "model.add(Activation('relu'))\n",
    "model.add(MaxPooling3D(pool_size=(2,2,2), strides=(2,2,2)))\n",
    "\n",
    "model.add(Flatten())\n",
    "model.add(Dropout(0.5))\n",
    "model.add(Dense(512, activation='relu'))\n",
    "model.add(Dropout(0.5))\n",
    "model.add(Dense(5, activation='softmax'))"
   ]
  },
  {
   "cell_type": "code",
   "execution_count": 12,
   "metadata": {},
   "outputs": [
    {
     "name": "stdout",
     "output_type": "stream",
     "text": [
      "_________________________________________________________________\n",
      "Layer (type)                 Output Shape              Param #   \n",
      "=================================================================\n",
      "conv3d_5 (Conv3D)            (None, 25, 80, 80, 64)    5248      \n",
      "_________________________________________________________________\n",
      "batch_normalization_5 (Batch (None, 25, 80, 80, 64)    256       \n",
      "_________________________________________________________________\n",
      "activation_5 (Activation)    (None, 25, 80, 80, 64)    0         \n",
      "_________________________________________________________________\n",
      "max_pooling3d_5 (MaxPooling3 (None, 12, 40, 80, 64)    0         \n",
      "_________________________________________________________________\n",
      "conv3d_6 (Conv3D)            (None, 12, 40, 80, 128)   221312    \n",
      "_________________________________________________________________\n",
      "batch_normalization_6 (Batch (None, 12, 40, 80, 128)   512       \n",
      "_________________________________________________________________\n",
      "activation_6 (Activation)    (None, 12, 40, 80, 128)   0         \n",
      "_________________________________________________________________\n",
      "max_pooling3d_6 (MaxPooling3 (None, 6, 20, 40, 128)    0         \n",
      "_________________________________________________________________\n",
      "conv3d_7 (Conv3D)            (None, 6, 20, 40, 256)    884992    \n",
      "_________________________________________________________________\n",
      "batch_normalization_7 (Batch (None, 6, 20, 40, 256)    1024      \n",
      "_________________________________________________________________\n",
      "activation_7 (Activation)    (None, 6, 20, 40, 256)    0         \n",
      "_________________________________________________________________\n",
      "max_pooling3d_7 (MaxPooling3 (None, 3, 10, 20, 256)    0         \n",
      "_________________________________________________________________\n",
      "dropout_4 (Dropout)          (None, 3, 10, 20, 256)    0         \n",
      "_________________________________________________________________\n",
      "conv3d_8 (Conv3D)            (None, 3, 10, 20, 256)    1769728   \n",
      "_________________________________________________________________\n",
      "batch_normalization_8 (Batch (None, 3, 10, 20, 256)    1024      \n",
      "_________________________________________________________________\n",
      "activation_8 (Activation)    (None, 3, 10, 20, 256)    0         \n",
      "_________________________________________________________________\n",
      "max_pooling3d_8 (MaxPooling3 (None, 1, 5, 10, 256)     0         \n",
      "_________________________________________________________________\n",
      "flatten_2 (Flatten)          (None, 12800)             0         \n",
      "_________________________________________________________________\n",
      "dropout_5 (Dropout)          (None, 12800)             0         \n",
      "_________________________________________________________________\n",
      "dense_3 (Dense)              (None, 512)               6554112   \n",
      "_________________________________________________________________\n",
      "dropout_6 (Dropout)          (None, 512)               0         \n",
      "_________________________________________________________________\n",
      "dense_4 (Dense)              (None, 5)                 2565      \n",
      "=================================================================\n",
      "Total params: 9,440,773\n",
      "Trainable params: 9,439,365\n",
      "Non-trainable params: 1,408\n",
      "_________________________________________________________________\n",
      "None\n"
     ]
    }
   ],
   "source": [
    "optimiser = optimizers.SGD(lr=0.001, decay=1e-6, momentum=0.7, nesterov=True) #write your optimizer\n",
    "model.compile(optimizer=optimiser, loss='categorical_crossentropy', metrics=['categorical_accuracy'])\n",
    "print (model.summary())"
   ]
  },
  {
   "cell_type": "code",
   "execution_count": 13,
   "metadata": {},
   "outputs": [],
   "source": [
    "train_generator = generator(train_path, train_doc, batch_size)\n",
    "val_generator = generator(val_path, val_doc, batch_size)\n",
    "model_name = 'model_init' + '_' + str(curr_dt_time).replace(' ','').replace(':','_') + '/'\n",
    "    \n",
    "if not os.path.exists(model_name):\n",
    "    os.mkdir(model_name)\n",
    "        \n",
    "filepath = model_name + 'model-{epoch:05d}-{loss:.5f}-{categorical_accuracy:.5f}-{val_loss:.5f}-{val_categorical_accuracy:.5f}.h5'\n",
    "\n",
    "checkpoint = ModelCheckpoint(filepath, monitor='val_loss', verbose=1, save_best_only=False, save_weights_only=False, mode='auto', period=1)\n",
    "\n",
    "LR = ReduceLROnPlateau(monitor='val_loss', factor=0.5, patience=2, verbose=1, mode='min', min_delta=0.0001, cooldown=0, min_lr=0.00001) # write the REducelronplateau code here\n",
    "callbacks_list = [checkpoint, LR]"
   ]
  },
  {
   "cell_type": "code",
   "execution_count": 14,
   "metadata": {},
   "outputs": [
    {
     "name": "stdout",
     "output_type": "stream",
     "text": [
      "Source path =  Project_data/val ; batch size = 32\n",
      "Source path =  Project_data/train ; batch size = 32\n",
      "Epoch 1/40\n"
     ]
    },
    {
     "name": "stderr",
     "output_type": "stream",
     "text": [
      "/mnt/disks/user/anaconda3/lib/python3.6/site-packages/ipykernel_launcher.py:13: DeprecationWarning: `imread` is deprecated!\n",
      "`imread` is deprecated in SciPy 1.0.0, and will be removed in 1.2.0.\n",
      "Use ``imageio.imread`` instead.\n",
      "  del sys.path[0]\n",
      "/mnt/disks/user/anaconda3/lib/python3.6/site-packages/ipykernel_launcher.py:18: DeprecationWarning: `imresize` is deprecated!\n",
      "`imresize` is deprecated in SciPy 1.0.0, and will be removed in 1.2.0.\n",
      "Use ``skimage.transform.resize`` instead.\n",
      "/mnt/disks/user/anaconda3/lib/python3.6/site-packages/ipykernel_launcher.py:20: DeprecationWarning: `imresize` is deprecated!\n",
      "`imresize` is deprecated in SciPy 1.0.0, and will be removed in 1.2.0.\n",
      "Use ``skimage.transform.resize`` instead.\n",
      "/mnt/disks/user/anaconda3/lib/python3.6/site-packages/ipykernel_launcher.py:37: DeprecationWarning: `imread` is deprecated!\n",
      "`imread` is deprecated in SciPy 1.0.0, and will be removed in 1.2.0.\n",
      "Use ``imageio.imread`` instead.\n",
      "/mnt/disks/user/anaconda3/lib/python3.6/site-packages/ipykernel_launcher.py:41: DeprecationWarning: `imresize` is deprecated!\n",
      "`imresize` is deprecated in SciPy 1.0.0, and will be removed in 1.2.0.\n",
      "Use ``skimage.transform.resize`` instead.\n",
      "/mnt/disks/user/anaconda3/lib/python3.6/site-packages/ipykernel_launcher.py:39: DeprecationWarning: `imresize` is deprecated!\n",
      "`imresize` is deprecated in SciPy 1.0.0, and will be removed in 1.2.0.\n",
      "Use ``skimage.transform.resize`` instead.\n"
     ]
    },
    {
     "name": "stdout",
     "output_type": "stream",
     "text": [
      "21/21 [==============================] - 87s 4s/step - loss: 3.4121 - categorical_accuracy: 0.2401 - val_loss: 1.3190 - val_categorical_accuracy: 0.4800\n",
      "\n",
      "Epoch 00001: saving model to model_init_2020-02-0416_03_27.473235/model-00001-3.41417-0.23982-1.31900-0.48000.h5\n",
      "Epoch 2/40\n",
      "21/21 [==============================] - 63s 3s/step - loss: 1.8373 - categorical_accuracy: 0.3570 - val_loss: 1.2891 - val_categorical_accuracy: 0.5100\n",
      "\n",
      "Epoch 00002: saving model to model_init_2020-02-0416_03_27.473235/model-00002-1.83536-0.35596-1.28906-0.51000.h5\n",
      "Epoch 3/40\n",
      "21/21 [==============================] - 67s 3s/step - loss: 1.5333 - categorical_accuracy: 0.3774 - val_loss: 1.2372 - val_categorical_accuracy: 0.4600\n",
      "\n",
      "Epoch 00003: saving model to model_init_2020-02-0416_03_27.473235/model-00003-1.53548-0.37557-1.23721-0.46000.h5\n",
      "Epoch 4/40\n",
      "21/21 [==============================] - 68s 3s/step - loss: 1.3458 - categorical_accuracy: 0.4716 - val_loss: 1.1761 - val_categorical_accuracy: 0.6000\n",
      "\n",
      "Epoch 00004: saving model to model_init_2020-02-0416_03_27.473235/model-00004-1.34660-0.47210-1.17612-0.60000.h5\n",
      "Epoch 5/40\n",
      "21/21 [==============================] - 67s 3s/step - loss: 1.2737 - categorical_accuracy: 0.4737 - val_loss: 1.1224 - val_categorical_accuracy: 0.5200\n",
      "\n",
      "Epoch 00005: saving model to model_init_2020-02-0416_03_27.473235/model-00005-1.27465-0.47360-1.12244-0.52000.h5\n",
      "Epoch 6/40\n",
      "21/21 [==============================] - 67s 3s/step - loss: 1.2672 - categorical_accuracy: 0.4599 - val_loss: 1.0696 - val_categorical_accuracy: 0.6200\n",
      "\n",
      "Epoch 00006: saving model to model_init_2020-02-0416_03_27.473235/model-00006-1.26489-0.46305-1.06958-0.62000.h5\n",
      "Epoch 7/40\n",
      "21/21 [==============================] - 66s 3s/step - loss: 1.2152 - categorical_accuracy: 0.5137 - val_loss: 1.0169 - val_categorical_accuracy: 0.6300\n",
      "\n",
      "Epoch 00007: saving model to model_init_2020-02-0416_03_27.473235/model-00007-1.21895-0.51131-1.01689-0.63000.h5\n",
      "Epoch 8/40\n",
      "21/21 [==============================] - 68s 3s/step - loss: 1.1207 - categorical_accuracy: 0.5401 - val_loss: 0.9456 - val_categorical_accuracy: 0.6500\n",
      "\n",
      "Epoch 00008: saving model to model_init_2020-02-0416_03_27.473235/model-00008-1.11670-0.54148-0.94555-0.65000.h5\n",
      "Epoch 9/40\n",
      "21/21 [==============================] - 67s 3s/step - loss: 1.0673 - categorical_accuracy: 0.5474 - val_loss: 0.9193 - val_categorical_accuracy: 0.6500\n",
      "\n",
      "Epoch 00009: saving model to model_init_2020-02-0416_03_27.473235/model-00009-1.07252-0.54600-0.91929-0.65000.h5\n",
      "Epoch 10/40\n",
      "21/21 [==============================] - 67s 3s/step - loss: 1.0572 - categorical_accuracy: 0.5831 - val_loss: 0.9108 - val_categorical_accuracy: 0.7000\n",
      "\n",
      "Epoch 00010: saving model to model_init_2020-02-0416_03_27.473235/model-00010-1.05731-0.58220-0.91080-0.70000.h5\n",
      "Epoch 11/40\n",
      "21/21 [==============================] - 67s 3s/step - loss: 0.9823 - categorical_accuracy: 0.6099 - val_loss: 0.9047 - val_categorical_accuracy: 0.6900\n",
      "\n",
      "Epoch 00011: saving model to model_init_2020-02-0416_03_27.473235/model-00011-0.98093-0.60935-0.90472-0.69000.h5\n",
      "Epoch 12/40\n",
      "21/21 [==============================] - 67s 3s/step - loss: 0.9612 - categorical_accuracy: 0.6133 - val_loss: 0.8599 - val_categorical_accuracy: 0.7300\n",
      "\n",
      "Epoch 00012: saving model to model_init_2020-02-0416_03_27.473235/model-00012-0.96184-0.61388-0.85994-0.73000.h5\n",
      "Epoch 13/40\n",
      "21/21 [==============================] - 67s 3s/step - loss: 0.9124 - categorical_accuracy: 0.6447 - val_loss: 0.8660 - val_categorical_accuracy: 0.7000\n",
      "\n",
      "Epoch 00013: saving model to model_init_2020-02-0416_03_27.473235/model-00013-0.91422-0.64404-0.86601-0.70000.h5\n",
      "Epoch 14/40\n",
      "21/21 [==============================] - 67s 3s/step - loss: 0.9180 - categorical_accuracy: 0.6168 - val_loss: 0.8613 - val_categorical_accuracy: 0.7000\n",
      "\n",
      "Epoch 00014: saving model to model_init_2020-02-0416_03_27.473235/model-00014-0.91930-0.61689-0.86129-0.70000.h5\n",
      "\n",
      "Epoch 00014: ReduceLROnPlateau reducing learning rate to 0.0005000000237487257.\n",
      "Epoch 15/40\n",
      "21/21 [==============================] - 66s 3s/step - loss: 0.8028 - categorical_accuracy: 0.6927 - val_loss: 0.8025 - val_categorical_accuracy: 0.7100\n",
      "\n",
      "Epoch 00015: saving model to model_init_2020-02-0416_03_27.473235/model-00015-0.79996-0.69382-0.80248-0.71000.h5\n",
      "Epoch 16/40\n",
      "21/21 [==============================] - 68s 3s/step - loss: 0.7802 - categorical_accuracy: 0.6899 - val_loss: 0.8151 - val_categorical_accuracy: 0.6900\n",
      "\n",
      "Epoch 00016: saving model to model_init_2020-02-0416_03_27.473235/model-00016-0.78095-0.68929-0.81512-0.69000.h5\n",
      "Epoch 17/40\n",
      "21/21 [==============================] - 67s 3s/step - loss: 0.7992 - categorical_accuracy: 0.6724 - val_loss: 0.7916 - val_categorical_accuracy: 0.7200\n",
      "\n",
      "Epoch 00017: saving model to model_init_2020-02-0416_03_27.473235/model-00017-0.79800-0.67270-0.79164-0.72000.h5\n",
      "Epoch 18/40\n",
      "21/21 [==============================] - 68s 3s/step - loss: 0.7782 - categorical_accuracy: 0.6899 - val_loss: 0.7894 - val_categorical_accuracy: 0.6800\n",
      "\n",
      "Epoch 00018: saving model to model_init_2020-02-0416_03_27.473235/model-00018-0.77615-0.68929-0.78936-0.68000.h5\n",
      "Epoch 19/40\n",
      "21/21 [==============================] - 69s 3s/step - loss: 0.7195 - categorical_accuracy: 0.7028 - val_loss: 0.7714 - val_categorical_accuracy: 0.7100\n",
      "\n",
      "Epoch 00019: saving model to model_init_2020-02-0416_03_27.473235/model-00019-0.71910-0.70287-0.77141-0.71000.h5\n",
      "Epoch 20/40\n",
      "21/21 [==============================] - 68s 3s/step - loss: 0.7514 - categorical_accuracy: 0.7197 - val_loss: 0.7899 - val_categorical_accuracy: 0.6800\n",
      "\n",
      "Epoch 00020: saving model to model_init_2020-02-0416_03_27.473235/model-00020-0.75015-0.71946-0.78986-0.68000.h5\n",
      "Epoch 21/40\n",
      "21/21 [==============================] - 66s 3s/step - loss: 0.7267 - categorical_accuracy: 0.7044 - val_loss: 0.7744 - val_categorical_accuracy: 0.7300\n",
      "\n",
      "Epoch 00021: saving model to model_init_2020-02-0416_03_27.473235/model-00021-0.72867-0.70287-0.77438-0.73000.h5\n",
      "\n",
      "Epoch 00021: ReduceLROnPlateau reducing learning rate to 0.0002500000118743628.\n",
      "Epoch 22/40\n",
      "21/21 [==============================] - 67s 3s/step - loss: 0.7708 - categorical_accuracy: 0.6966 - val_loss: 0.7267 - val_categorical_accuracy: 0.7600\n",
      "\n",
      "Epoch 00022: saving model to model_init_2020-02-0416_03_27.473235/model-00022-0.76913-0.69834-0.72672-0.76000.h5\n",
      "Epoch 23/40\n",
      "21/21 [==============================] - 67s 3s/step - loss: 0.6919 - categorical_accuracy: 0.7221 - val_loss: 0.7101 - val_categorical_accuracy: 0.7300\n",
      "\n",
      "Epoch 00023: saving model to model_init_2020-02-0416_03_27.473235/model-00023-0.68962-0.72247-0.71011-0.73000.h5\n",
      "Epoch 24/40\n",
      "21/21 [==============================] - 67s 3s/step - loss: 0.6349 - categorical_accuracy: 0.7476 - val_loss: 0.7047 - val_categorical_accuracy: 0.7500\n",
      "\n",
      "Epoch 00024: saving model to model_init_2020-02-0416_03_27.473235/model-00024-0.63643-0.74661-0.70466-0.75000.h5\n",
      "Epoch 25/40\n",
      "21/21 [==============================] - 68s 3s/step - loss: 0.6629 - categorical_accuracy: 0.7465 - val_loss: 0.7059 - val_categorical_accuracy: 0.7400\n",
      "\n",
      "Epoch 00025: saving model to model_init_2020-02-0416_03_27.473235/model-00025-0.66245-0.74661-0.70592-0.74000.h5\n",
      "Epoch 26/40\n",
      "21/21 [==============================] - 68s 3s/step - loss: 0.6358 - categorical_accuracy: 0.7517 - val_loss: 0.6861 - val_categorical_accuracy: 0.7400\n",
      "\n",
      "Epoch 00026: saving model to model_init_2020-02-0416_03_27.473235/model-00026-0.63818-0.74962-0.68613-0.74000.h5\n",
      "Epoch 27/40\n",
      "21/21 [==============================] - 67s 3s/step - loss: 0.6189 - categorical_accuracy: 0.7754 - val_loss: 0.6820 - val_categorical_accuracy: 0.7500\n",
      "\n",
      "Epoch 00027: saving model to model_init_2020-02-0416_03_27.473235/model-00027-0.61886-0.77526-0.68205-0.75000.h5\n",
      "Epoch 28/40\n",
      "21/21 [==============================] - 67s 3s/step - loss: 0.6448 - categorical_accuracy: 0.7514 - val_loss: 0.6691 - val_categorical_accuracy: 0.7600\n",
      "\n",
      "Epoch 00028: saving model to model_init_2020-02-0416_03_27.473235/model-00028-0.64208-0.75264-0.66907-0.76000.h5\n",
      "Epoch 29/40\n",
      "21/21 [==============================] - 66s 3s/step - loss: 0.6008 - categorical_accuracy: 0.7566 - val_loss: 0.6566 - val_categorical_accuracy: 0.7600\n",
      "\n",
      "Epoch 00029: saving model to model_init_2020-02-0416_03_27.473235/model-00029-0.60084-0.75566-0.65663-0.76000.h5\n",
      "Epoch 30/40\n"
     ]
    },
    {
     "name": "stdout",
     "output_type": "stream",
     "text": [
      "21/21 [==============================] - 68s 3s/step - loss: 0.6040 - categorical_accuracy: 0.7709 - val_loss: 0.6507 - val_categorical_accuracy: 0.7700\n",
      "\n",
      "Epoch 00030: saving model to model_init_2020-02-0416_03_27.473235/model-00030-0.60515-0.77074-0.65069-0.77000.h5\n",
      "Epoch 31/40\n",
      "21/21 [==============================] - 68s 3s/step - loss: 0.6186 - categorical_accuracy: 0.7445 - val_loss: 0.6515 - val_categorical_accuracy: 0.7800\n",
      "\n",
      "Epoch 00031: saving model to model_init_2020-02-0416_03_27.473235/model-00031-0.61966-0.74510-0.65152-0.78000.h5\n",
      "Epoch 32/40\n",
      "21/21 [==============================] - 67s 3s/step - loss: 0.5933 - categorical_accuracy: 0.7858 - val_loss: 0.6458 - val_categorical_accuracy: 0.7600\n",
      "\n",
      "Epoch 00032: saving model to model_init_2020-02-0416_03_27.473235/model-00032-0.59318-0.78582-0.64580-0.76000.h5\n",
      "Epoch 33/40\n",
      "21/21 [==============================] - 67s 3s/step - loss: 0.5979 - categorical_accuracy: 0.7573 - val_loss: 0.6303 - val_categorical_accuracy: 0.7900\n",
      "\n",
      "Epoch 00033: saving model to model_init_2020-02-0416_03_27.473235/model-00033-0.59620-0.75867-0.63032-0.79000.h5\n",
      "Epoch 34/40\n",
      "21/21 [==============================] - 68s 3s/step - loss: 0.6052 - categorical_accuracy: 0.7685 - val_loss: 0.6360 - val_categorical_accuracy: 0.7700\n",
      "\n",
      "Epoch 00034: saving model to model_init_2020-02-0416_03_27.473235/model-00034-0.60874-0.76772-0.63597-0.77000.h5\n",
      "Epoch 35/40\n",
      "21/21 [==============================] - 67s 3s/step - loss: 0.5675 - categorical_accuracy: 0.7806 - val_loss: 0.6376 - val_categorical_accuracy: 0.7600\n",
      "\n",
      "Epoch 00035: saving model to model_init_2020-02-0416_03_27.473235/model-00035-0.56520-0.78281-0.63761-0.76000.h5\n",
      "\n",
      "Epoch 00035: ReduceLROnPlateau reducing learning rate to 0.0001250000059371814.\n",
      "Epoch 36/40\n",
      "21/21 [==============================] - 67s 3s/step - loss: 0.5498 - categorical_accuracy: 0.7888 - val_loss: 0.6285 - val_categorical_accuracy: 0.7700\n",
      "\n",
      "Epoch 00036: saving model to model_init_2020-02-0416_03_27.473235/model-00036-0.54851-0.78884-0.62847-0.77000.h5\n",
      "Epoch 37/40\n",
      "21/21 [==============================] - 68s 3s/step - loss: 0.5928 - categorical_accuracy: 0.7688 - val_loss: 0.6254 - val_categorical_accuracy: 0.7700\n",
      "\n",
      "Epoch 00037: saving model to model_init_2020-02-0416_03_27.473235/model-00037-0.59269-0.76923-0.62539-0.77000.h5\n",
      "Epoch 38/40\n",
      "21/21 [==============================] - 69s 3s/step - loss: 0.5686 - categorical_accuracy: 0.7835 - val_loss: 0.6302 - val_categorical_accuracy: 0.7700\n",
      "\n",
      "Epoch 00038: saving model to model_init_2020-02-0416_03_27.473235/model-00038-0.57050-0.78130-0.63023-0.77000.h5\n",
      "Epoch 39/40\n",
      "21/21 [==============================] - 69s 3s/step - loss: 0.5838 - categorical_accuracy: 0.7672 - val_loss: 0.6263 - val_categorical_accuracy: 0.7800\n",
      "\n",
      "Epoch 00039: saving model to model_init_2020-02-0416_03_27.473235/model-00039-0.58276-0.76923-0.62632-0.78000.h5\n",
      "\n",
      "Epoch 00039: ReduceLROnPlateau reducing learning rate to 6.25000029685907e-05.\n",
      "Epoch 40/40\n",
      "21/21 [==============================] - 68s 3s/step - loss: 0.5530 - categorical_accuracy: 0.7897 - val_loss: 0.6254 - val_categorical_accuracy: 0.7700\n",
      "\n",
      "Epoch 00040: saving model to model_init_2020-02-0416_03_27.473235/model-00040-0.55262-0.79035-0.62544-0.77000.h5\n"
     ]
    },
    {
     "data": {
      "text/plain": [
       "<keras.callbacks.History at 0x7fe13caa2c18>"
      ]
     },
     "execution_count": 14,
     "metadata": {},
     "output_type": "execute_result"
    }
   ],
   "source": [
    "if (num_train_sequences%batch_size) == 0:\n",
    "    steps_per_epoch = int(num_train_sequences/batch_size)\n",
    "else:\n",
    "    steps_per_epoch = (num_train_sequences//batch_size) + 1\n",
    "\n",
    "if (num_val_sequences%batch_size) == 0:\n",
    "    validation_steps = int(num_val_sequences/batch_size)\n",
    "else:\n",
    "    validation_steps = (num_val_sequences//batch_size) + 1\n",
    "    \n",
    "model.fit_generator(train_generator, steps_per_epoch=steps_per_epoch, epochs=num_epochs, verbose=1, \n",
    "                    callbacks=callbacks_list, validation_data=val_generator, \n",
    "                    validation_steps=validation_steps, class_weight=None, workers=1, initial_epoch=0)"
   ]
  },
  {
   "cell_type": "markdown",
   "metadata": {},
   "source": [
    "### Observations of Model 2 (CONVO-3D):"
   ]
  },
  {
   "cell_type": "markdown",
   "metadata": {},
   "source": [
    "- So finally we have got very good model using CONVO 3D with below parameters:\n",
    "1. We have used 25 frames of size 80*80 with 3 channels. \n",
    "2. Frame size was reduced/cropped to 80*80 to extract fine features only.\n",
    "3. As we can see we got ***categorical_accuracy: 0.7897*** and ***val_categorical_accuracy: 0.7700***\n",
    "4. This accuracy we got after trying multiple models with different parameters.\n",
    "5. Total trainable parameters ***Trainable params: 9,439,365*** which is even good for webcam hosting.\n",
    "6. This model has 4 convolutional 3D layer followed by batch normalization, maxpooling.\n",
    "7. 0.25 dropout has been added after third convolution layer to reduce overfitting.\n",
    "8. Later it is flattened follwoed by dropout and fed into Dense layer with 5 classification outputs."
   ]
  }
 ],
 "metadata": {
  "kernelspec": {
   "display_name": "Python 3",
   "language": "python",
   "name": "python3"
  },
  "language_info": {
   "codemirror_mode": {
    "name": "ipython",
    "version": 3
   },
   "file_extension": ".py",
   "mimetype": "text/x-python",
   "name": "python",
   "nbconvert_exporter": "python",
   "pygments_lexer": "ipython3",
   "version": "3.7.1"
  }
 },
 "nbformat": 4,
 "nbformat_minor": 2
}
